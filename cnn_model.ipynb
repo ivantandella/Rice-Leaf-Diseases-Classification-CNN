{
  "nbformat": 4,
  "nbformat_minor": 0,
  "metadata": {
    "colab": {
      "provenance": [],
      "gpuType": "T4"
    },
    "kernelspec": {
      "name": "python3",
      "display_name": "Python 3"
    },
    "language_info": {
      "name": "python"
    },
    "accelerator": "GPU",
    "gpuClass": "standard"
  },
  "cells": [
    {
      "cell_type": "markdown",
      "source": [
        "# PadiCare - Rice Leaf Disease Detection using CNN Model\n",
        "\n",
        "Bangkit 2023 Product-based Capstone\n",
        "\n",
        "Team ID: C23-PS226\n",
        "1. [ML] M350DSX0169 - Ivan Tandella - Universitas Sumatera Utara\n",
        "2. [ML] M350DSY0137 - Putri Yanti Nahampun - Universitas Sumatera Utara\n",
        "3. [MD] A350DKX4428 - Reinaldhy Suzeta Purba - Universitas Sumatera Utara\n",
        "4. [MD] A163DSX2278 - Muhammad Khoirul Afwan - Universitas Dian Nuswantoro\n",
        "5. [CC] C163DSX2962 - Royef Fahrezal Setya Arfianysah - Universitas Dian Nuswantoro\n",
        "6. [CC] C163DSX2963 - Muchamad Yudhistira - Universitas Dian Nuswantoro"
      ],
      "metadata": {
        "id": "dx-pL_SmDh-w"
      }
    },
    {
      "cell_type": "markdown",
      "source": [
        "# 1. Starter"
      ],
      "metadata": {
        "id": "rQiDBzn0E4sV"
      }
    },
    {
      "cell_type": "markdown",
      "source": [
        "Import required libraries"
      ],
      "metadata": {
        "id": "1fZRYg9hEu25"
      }
    },
    {
      "cell_type": "code",
      "execution_count": null,
      "metadata": {
        "id": "MmI7TVWj-iVd"
      },
      "outputs": [],
      "source": [
        "import os\n",
        "import zipfile\n",
        "import random\n",
        "import shutil\n",
        "from shutil import copyfile\n",
        "\n",
        "import tensorflow as tf\n",
        "from keras.preprocessing.image import ImageDataGenerator\n",
        "from keras.models import Sequential\n",
        "from keras.layers import Conv2D, MaxPooling2D, Dropout, Flatten, Dense"
      ]
    },
    {
      "cell_type": "markdown",
      "source": [
        "Download zip file dataset from drive"
      ],
      "metadata": {
        "id": "Edbb_9JkE0LT"
      }
    },
    {
      "cell_type": "code",
      "source": [
        "import gdown\n",
        "\n",
        "url = 'https://drive.google.com/uc?id=1BlpYYR9u8dDaoJgmHmOixrRiQUN4Pbpi'\n",
        "output_path = 'rice_leaf_diseases.zip'\n",
        "gdown.download(url, output_path, quiet=False)"
      ],
      "metadata": {
        "colab": {
          "base_uri": "https://localhost:8080/",
          "height": 104
        },
        "id": "aH-vkgsq_H60",
        "outputId": "218ba6e5-06c4-4f71-a17e-20a95395b511"
      },
      "execution_count": null,
      "outputs": [
        {
          "output_type": "stream",
          "name": "stderr",
          "text": [
            "Downloading...\n",
            "From: https://drive.google.com/uc?id=1BlpYYR9u8dDaoJgmHmOixrRiQUN4Pbpi\n",
            "To: /content/rice-leaf-diseases.zip\n",
            "100%|██████████| 38.4M/38.4M [00:01<00:00, 24.0MB/s]\n"
          ]
        },
        {
          "output_type": "execute_result",
          "data": {
            "text/plain": [
              "'rice-leaf-diseases.zip'"
            ],
            "application/vnd.google.colaboratory.intrinsic+json": {
              "type": "string"
            }
          },
          "metadata": {},
          "execution_count": 4
        }
      ]
    },
    {
      "cell_type": "markdown",
      "source": [
        "Unzip and extract dataset"
      ],
      "metadata": {
        "id": "pGEAGQptFIEN"
      }
    },
    {
      "cell_type": "code",
      "source": [
        "local_zip = '/content/rice_leaf_diseases.zip'\n",
        "zip_ref   = zipfile.ZipFile(local_zip, 'r')\n",
        "zip_ref.extractall('/content')\n",
        "zip_ref.close()"
      ],
      "metadata": {
        "id": "YMJfx3KyC9kt"
      },
      "execution_count": null,
      "outputs": []
    },
    {
      "cell_type": "markdown",
      "source": [
        "The images are stored in /content/rice_leaf_diseases directory. There is a sub directory for each class: Bacterial Leaf Blight, Brown Spot, and Leaf Smut"
      ],
      "metadata": {
        "id": "c0zBI7StF3NY"
      }
    },
    {
      "cell_type": "code",
      "source": [
        "source_path = '/content/rice_leaf_diseases'\n",
        "\n",
        "source_path_leaf_blight = os.path.join(source_path, 'Bacterial leaf blight')\n",
        "source_path_brown_spot = os.path.join(source_path, 'Brown spot')\n",
        "source_path_leaf_smut = os.path.join(source_path, 'Leaf smut')\n",
        "\n",
        "# os.listdir returns a list containing all files under the given path\n",
        "print(f\"There are {len(os.listdir(source_path_leaf_blight))} images of bacterial leaf blight.\")\n",
        "print(f\"There are {len(os.listdir(source_path_brown_spot))} images of brown spot.\")\n",
        "print(f\"There are {len(os.listdir(source_path_leaf_smut))} images of leaf smut.\")"
      ],
      "metadata": {
        "colab": {
          "base_uri": "https://localhost:8080/"
        },
        "id": "3m4-MzNPDMGt",
        "outputId": "074732ae-c606-4391-cd10-a423bb8e7f64"
      },
      "execution_count": null,
      "outputs": [
        {
          "output_type": "stream",
          "name": "stdout",
          "text": [
            "There are 40 images of bacterial leaf blight.\n",
            "There are 40 images of brown spot.\n",
            "There are 40 images of leaf smut.\n"
          ]
        }
      ]
    },
    {
      "cell_type": "markdown",
      "source": [
        "# 2. Split Dataset"
      ],
      "metadata": {
        "id": "fa21heXqGU0w"
      }
    },
    {
      "cell_type": "markdown",
      "source": [
        "Make new directory for training and validation data"
      ],
      "metadata": {
        "id": "j13qjGKdGadC"
      }
    },
    {
      "cell_type": "code",
      "source": [
        "# Define root directory\n",
        "root_dir = '/content/rice_plant_diseases'\n",
        "\n",
        "# Empty directory to prevent FileExistsError is the function is run several times\n",
        "if os.path.exists(root_dir):\n",
        "  shutil.rmtree(root_dir)\n",
        "\n",
        "os.makedirs(os.path.join(root_dir, 'training'))\n",
        "os.makedirs(os.path.join(f'{root_dir}/training', 'bacterial leaf blight'))\n",
        "os.makedirs(os.path.join(f'{root_dir}/training', 'brown spot'))\n",
        "os.makedirs(os.path.join(f'{root_dir}/training', 'leaf smut'))\n",
        "os.makedirs(os.path.join(root_dir, 'validation'))\n",
        "os.makedirs(os.path.join(f'{root_dir}/validation', 'bacterial leaf blight'))\n",
        "os.makedirs(os.path.join(f'{root_dir}/validation', 'brown spot'))\n",
        "os.makedirs(os.path.join(f'{root_dir}/validation', 'leaf smut'))"
      ],
      "metadata": {
        "id": "VYyeNtVaDceq"
      },
      "execution_count": null,
      "outputs": []
    },
    {
      "cell_type": "markdown",
      "source": [
        "This is the function used for spliting the data."
      ],
      "metadata": {
        "id": "sGOKd0uFGg7U"
      }
    },
    {
      "cell_type": "code",
      "source": [
        "def split_data(SOURCE_DIR, TRAINING_DIR, VALIDATION_DIR, SPLIT_SIZE):\n",
        "  \"\"\"\n",
        "  Splits the data into train and test sets\n",
        "\n",
        "  Args:\n",
        "    SOURCE_DIR (string): directory path containing the images\n",
        "    TRAINING_DIR (string): directory path to be used for training\n",
        "    VALIDATION_DIR (string): directory path to be used for validation\n",
        "    SPLIT_SIZE (float): proportion of the dataset to be used for training\n",
        "\n",
        "  Returns:\n",
        "    None\n",
        "  \"\"\"\n",
        "\n",
        "  shuffled_source = random.sample(os.listdir(SOURCE_DIR), len(os.listdir(SOURCE_DIR)))\n",
        "\n",
        "  training_number = int(len(shuffled_source) * SPLIT_SIZE)\n",
        "\n",
        "  i=0\n",
        "  target = TRAINING_DIR\n",
        "\n",
        "  for img in shuffled_source:\n",
        "    img_source = os.path.join(SOURCE_DIR, img)\n",
        "    copyfile(img_source, os.path.join(target, img))\n",
        "    i += 1\n",
        "\n",
        "    if i == training_number:\n",
        "      target = VALIDATION_DIR"
      ],
      "metadata": {
        "id": "Csgi8fo_DhqP"
      },
      "execution_count": null,
      "outputs": []
    },
    {
      "cell_type": "markdown",
      "source": [
        "Define the source directory of the dataset and the target directory for spliting the data. We will split the data into 80% of train set, and 20% of validation set"
      ],
      "metadata": {
        "id": "AkV-o_TQGyN4"
      }
    },
    {
      "cell_type": "code",
      "source": [
        "# Define paths\n",
        "LB_SOURCE_DIR = \"/content/rice_leaf_diseases/Bacterial leaf blight/\"\n",
        "BS_SOURCE_DIR = \"/content/rice_leaf_diseases/Brown spot/\"\n",
        "LS_SOURCE_DIR = \"/content/rice_leaf_diseases/Leaf smut/\"\n",
        "\n",
        "TRAINING_DIR = \"/content/rice_plant_diseases/training/\"\n",
        "VALIDATION_DIR = \"/content/rice_plant_diseases/validation/\"\n",
        "\n",
        "TRAINING_LB_DIR = os.path.join(TRAINING_DIR, \"bacterial leaf blight/\")\n",
        "VALIDATION_LB_DIR = os.path.join(VALIDATION_DIR, \"bacterial leaf blight/\")\n",
        "\n",
        "TRAINING_BS_DIR = os.path.join(TRAINING_DIR, \"brown spot/\")\n",
        "VALIDATION_BS_DIR = os.path.join(VALIDATION_DIR, \"brown spot/\")\n",
        "\n",
        "TRAINING_LS_DIR = os.path.join(TRAINING_DIR, \"leaf smut/\")\n",
        "VALIDATION_LS_DIR = os.path.join(VALIDATION_DIR, \"leaf smut/\")\n",
        "\n",
        "# Empty directories in case you run this cell multiple times\n",
        "if len(os.listdir(TRAINING_LB_DIR)) > 0:\n",
        "  for file in os.scandir(TRAINING_LB_DIR):\n",
        "    os.remove(file.path)\n",
        "if len(os.listdir(TRAINING_BS_DIR)) > 0:\n",
        "  for file in os.scandir(TRAINING_BS_DIR):\n",
        "    os.remove(file.path)\n",
        "if len(os.listdir(TRAINING_LS_DIR)) > 0:\n",
        "  for file in os.scandir(TRAINING_LS_DIR):\n",
        "    os.remove(file.path)\n",
        "if len(os.listdir(VALIDATION_LB_DIR)) > 0:\n",
        "  for file in os.scandir(VALIDATION_LB_DIR):\n",
        "    os.remove(file.path)\n",
        "if len(os.listdir(VALIDATION_BS_DIR)) > 0:\n",
        "  for file in os.scandir(VALIDATION_BS_DIR):\n",
        "    os.remove(file.path)\n",
        "if len(os.listdir(VALIDATION_LS_DIR)) > 0:\n",
        "  for file in os.scandir(VALIDATION_LS_DIR):\n",
        "    os.remove(file.path)\n",
        "\n",
        "# Define proportion of images used for training\n",
        "split_size = .8\n",
        "\n",
        "# Run the function\n",
        "split_data(LB_SOURCE_DIR, TRAINING_LB_DIR, VALIDATION_LB_DIR, split_size)\n",
        "split_data(BS_SOURCE_DIR, TRAINING_BS_DIR, VALIDATION_BS_DIR, split_size)\n",
        "split_data(LS_SOURCE_DIR, TRAINING_LS_DIR, VALIDATION_LS_DIR, split_size)\n"
      ],
      "metadata": {
        "id": "gjqtTlhvDn_E"
      },
      "execution_count": null,
      "outputs": []
    },
    {
      "cell_type": "code",
      "source": [
        "# Check that the number of images matches the expected output\n",
        "\n",
        "# Original data\n",
        "print(f\"Original BACTERIAL LEAF BLIGHT's directory has {len(os.listdir(LB_SOURCE_DIR))} images\")\n",
        "print(f\"Original BROWN SPOT's directory has {len(os.listdir(BS_SOURCE_DIR))} images\")\n",
        "print(f\"Original LEAF SMUT's directory has {len(os.listdir(LS_SOURCE_DIR))} images\\n\")\n",
        "\n",
        "# Training and validation splits\n",
        "print(f\"There are {len(os.listdir(TRAINING_LB_DIR))} images of BACTERIAL LEAF BLIGHT for training\")\n",
        "print(f\"There are {len(os.listdir(TRAINING_BS_DIR))} images of BROWN SPOT for training\")\n",
        "print(f\"There are {len(os.listdir(TRAINING_LS_DIR))} images of LEAF SMUT for training\")\n",
        "print(f\"There are {len(os.listdir(VALIDATION_LB_DIR))} images of BACTERIAL LEAF BLIGHT for validation\")\n",
        "print(f\"There are {len(os.listdir(VALIDATION_BS_DIR))} images of BROWN SPOT for validation\")\n",
        "print(f\"There are {len(os.listdir(VALIDATION_LS_DIR))} images of LEAF SMUT for validation\")"
      ],
      "metadata": {
        "colab": {
          "base_uri": "https://localhost:8080/"
        },
        "id": "EbkXRW5UDwnk",
        "outputId": "eb431f8e-740e-4de8-d12a-040a031feccb"
      },
      "execution_count": null,
      "outputs": [
        {
          "output_type": "stream",
          "name": "stdout",
          "text": [
            "Original BACTERIAL LEAF BLIGHT's directory has 40 images\n",
            "Original BROWN SPOT's directory has 40 images\n",
            "Original LEAF SMUT's directory has 40 images\n",
            "\n",
            "There are 32 images of BACTERIAL LEAF BLIGHT for training\n",
            "There are 32 images of BROWN SPOT for training\n",
            "There are 32 images of LEAF SMUT for training\n",
            "There are 8 images of BACTERIAL LEAF BLIGHT for validation\n",
            "There are 8 images of BROWN SPOT for validation\n",
            "There are 8 images of LEAF SMUT for validation\n"
          ]
        }
      ]
    },
    {
      "cell_type": "markdown",
      "source": [
        "# 3. Data Augmentation"
      ],
      "metadata": {
        "id": "36Z-NVd2HLXm"
      }
    },
    {
      "cell_type": "code",
      "source": [
        "IMG_WIDTH, IMG_HEIGHT = 150, 150\n",
        "\n",
        "train_datagen = ImageDataGenerator(rescale=1/255,\n",
        "                                   rotation_range=40,\n",
        "                                   width_shift_range=0.2,\n",
        "                                   height_shift_range=0.2,\n",
        "                                   shear_range=0.2,\n",
        "                                   zoom_range=0.2,\n",
        "                                   horizontal_flip=True,\n",
        "                                   fill_mode='nearest')\n",
        "\n",
        "train_generator = train_datagen.flow_from_directory(directory=TRAINING_DIR,\n",
        "                                                    target_size=(IMG_WIDTH, IMG_HEIGHT),\n",
        "                                                    batch_size=10,\n",
        "                                                    class_mode='categorical')\n",
        "\n",
        "validation_datagen = ImageDataGenerator(rescale=1/255)\n",
        "\n",
        "validation_generator = validation_datagen.flow_from_directory(directory=VALIDATION_DIR,\n",
        "                                                              target_size=(IMG_WIDTH, IMG_HEIGHT),\n",
        "                                                              batch_size=5,\n",
        "                                                              class_mode='categorical')"
      ],
      "metadata": {
        "colab": {
          "base_uri": "https://localhost:8080/"
        },
        "id": "Ln2l6NnaD719",
        "outputId": "8443b30c-05ae-48bd-917e-1a824b0cf956"
      },
      "execution_count": null,
      "outputs": [
        {
          "output_type": "stream",
          "name": "stdout",
          "text": [
            "Found 96 images belonging to 3 classes.\n",
            "Found 24 images belonging to 3 classes.\n"
          ]
        }
      ]
    },
    {
      "cell_type": "markdown",
      "source": [
        "# 4. Build Model"
      ],
      "metadata": {
        "id": "mFwDGNr_HVw2"
      }
    },
    {
      "cell_type": "code",
      "source": [
        "model = Sequential()\n",
        "model.add(Conv2D(16, (3, 3), activation='relu', input_shape=(150, 150, 3)))\n",
        "model.add(MaxPooling2D(2, 2))\n",
        "model.add(Conv2D(32, (3, 3), activation='relu'))\n",
        "model.add(MaxPooling2D(2, 2))\n",
        "model.add(Conv2D(64, (3, 3), activation='relu'))\n",
        "model.add(MaxPooling2D(2, 2))\n",
        "model.add(Flatten())\n",
        "model.add(Dropout(0.2))\n",
        "model.add(Dense(1024, activation='relu'))\n",
        "model.add(Dense(512, activation='relu'))\n",
        "model.add(Dense(3, activation='softmax'))\n",
        "\n",
        "model.summary()"
      ],
      "metadata": {
        "colab": {
          "base_uri": "https://localhost:8080/"
        },
        "id": "G69Zmc7uD-36",
        "outputId": "22cab294-2809-4b0e-815e-1c9d4c7f6965"
      },
      "execution_count": null,
      "outputs": [
        {
          "output_type": "stream",
          "name": "stdout",
          "text": [
            "Model: \"sequential_1\"\n",
            "_________________________________________________________________\n",
            " Layer (type)                Output Shape              Param #   \n",
            "=================================================================\n",
            " conv2d_3 (Conv2D)           (None, 148, 148, 16)      448       \n",
            "                                                                 \n",
            " max_pooling2d_3 (MaxPooling  (None, 74, 74, 16)       0         \n",
            " 2D)                                                             \n",
            "                                                                 \n",
            " conv2d_4 (Conv2D)           (None, 72, 72, 32)        4640      \n",
            "                                                                 \n",
            " max_pooling2d_4 (MaxPooling  (None, 36, 36, 32)       0         \n",
            " 2D)                                                             \n",
            "                                                                 \n",
            " conv2d_5 (Conv2D)           (None, 34, 34, 64)        18496     \n",
            "                                                                 \n",
            " max_pooling2d_5 (MaxPooling  (None, 17, 17, 64)       0         \n",
            " 2D)                                                             \n",
            "                                                                 \n",
            " flatten_1 (Flatten)         (None, 18496)             0         \n",
            "                                                                 \n",
            " dropout_1 (Dropout)         (None, 18496)             0         \n",
            "                                                                 \n",
            " dense_3 (Dense)             (None, 1024)              18940928  \n",
            "                                                                 \n",
            " dense_4 (Dense)             (None, 512)               524800    \n",
            "                                                                 \n",
            " dense_5 (Dense)             (None, 3)                 1539      \n",
            "                                                                 \n",
            "=================================================================\n",
            "Total params: 19,490,851\n",
            "Trainable params: 19,490,851\n",
            "Non-trainable params: 0\n",
            "_________________________________________________________________\n"
          ]
        }
      ]
    },
    {
      "cell_type": "code",
      "source": [
        "model.compile(optimizer='adam',\n",
        "              loss='categorical_crossentropy',\n",
        "              metrics=['accuracy'])"
      ],
      "metadata": {
        "id": "GHipZ2abEMEd"
      },
      "execution_count": null,
      "outputs": []
    },
    {
      "cell_type": "code",
      "source": [
        "history = model.fit(train_generator,\n",
        "                    epochs=50,\n",
        "                    validation_data=validation_generator)"
      ],
      "metadata": {
        "colab": {
          "base_uri": "https://localhost:8080/"
        },
        "id": "1uojc974EYQF",
        "outputId": "347f7711-e0dd-495f-bc70-aae0c39ee79c"
      },
      "execution_count": null,
      "outputs": [
        {
          "output_type": "stream",
          "name": "stdout",
          "text": [
            "Epoch 1/50\n",
            "10/10 [==============================] - 12s 1s/step - loss: 1.7440 - accuracy: 0.3125 - val_loss: 1.1149 - val_accuracy: 0.3333\n",
            "Epoch 2/50\n",
            "10/10 [==============================] - 10s 1s/step - loss: 1.1037 - accuracy: 0.2708 - val_loss: 1.0837 - val_accuracy: 0.4583\n",
            "Epoch 3/50\n",
            "10/10 [==============================] - 10s 991ms/step - loss: 1.0672 - accuracy: 0.4167 - val_loss: 1.0471 - val_accuracy: 0.4583\n",
            "Epoch 4/50\n",
            "10/10 [==============================] - 9s 874ms/step - loss: 1.0511 - accuracy: 0.4583 - val_loss: 0.9953 - val_accuracy: 0.4583\n",
            "Epoch 5/50\n",
            "10/10 [==============================] - 10s 929ms/step - loss: 1.0285 - accuracy: 0.4896 - val_loss: 0.9891 - val_accuracy: 0.5417\n",
            "Epoch 6/50\n",
            "10/10 [==============================] - 11s 1s/step - loss: 1.0616 - accuracy: 0.4271 - val_loss: 1.1311 - val_accuracy: 0.4167\n",
            "Epoch 7/50\n",
            "10/10 [==============================] - 10s 1s/step - loss: 1.0757 - accuracy: 0.3750 - val_loss: 1.0506 - val_accuracy: 0.4167\n",
            "Epoch 8/50\n",
            "10/10 [==============================] - 9s 930ms/step - loss: 1.0340 - accuracy: 0.4583 - val_loss: 1.0277 - val_accuracy: 0.4583\n",
            "Epoch 9/50\n",
            "10/10 [==============================] - 10s 951ms/step - loss: 1.0104 - accuracy: 0.3646 - val_loss: 1.0447 - val_accuracy: 0.4167\n",
            "Epoch 10/50\n",
            "10/10 [==============================] - 12s 1s/step - loss: 0.9552 - accuracy: 0.4896 - val_loss: 1.0868 - val_accuracy: 0.3750\n",
            "Epoch 11/50\n",
            "10/10 [==============================] - 10s 1s/step - loss: 0.9015 - accuracy: 0.5104 - val_loss: 1.2276 - val_accuracy: 0.4583\n",
            "Epoch 12/50\n",
            "10/10 [==============================] - 10s 1s/step - loss: 0.9825 - accuracy: 0.4583 - val_loss: 1.0204 - val_accuracy: 0.5000\n",
            "Epoch 13/50\n",
            "10/10 [==============================] - 10s 928ms/step - loss: 0.9555 - accuracy: 0.4583 - val_loss: 1.0641 - val_accuracy: 0.4583\n",
            "Epoch 14/50\n",
            "10/10 [==============================] - 10s 999ms/step - loss: 0.9320 - accuracy: 0.5625 - val_loss: 1.0896 - val_accuracy: 0.4167\n",
            "Epoch 15/50\n",
            "10/10 [==============================] - 11s 1s/step - loss: 0.9565 - accuracy: 0.4688 - val_loss: 0.9047 - val_accuracy: 0.5833\n",
            "Epoch 16/50\n",
            "10/10 [==============================] - 9s 916ms/step - loss: 0.9147 - accuracy: 0.5521 - val_loss: 0.8881 - val_accuracy: 0.5000\n",
            "Epoch 17/50\n",
            "10/10 [==============================] - 10s 914ms/step - loss: 0.8568 - accuracy: 0.5833 - val_loss: 0.9832 - val_accuracy: 0.5833\n",
            "Epoch 18/50\n",
            "10/10 [==============================] - 11s 1s/step - loss: 0.7538 - accuracy: 0.6875 - val_loss: 0.8886 - val_accuracy: 0.6250\n",
            "Epoch 19/50\n",
            "10/10 [==============================] - 10s 1s/step - loss: 0.8208 - accuracy: 0.6146 - val_loss: 0.8494 - val_accuracy: 0.6667\n",
            "Epoch 20/50\n",
            "10/10 [==============================] - 10s 999ms/step - loss: 0.7111 - accuracy: 0.7500 - val_loss: 0.9603 - val_accuracy: 0.5833\n",
            "Epoch 21/50\n",
            "10/10 [==============================] - 9s 939ms/step - loss: 0.7134 - accuracy: 0.6771 - val_loss: 0.8965 - val_accuracy: 0.6250\n",
            "Epoch 22/50\n",
            "10/10 [==============================] - 10s 947ms/step - loss: 0.7462 - accuracy: 0.6458 - val_loss: 0.8720 - val_accuracy: 0.7083\n",
            "Epoch 23/50\n",
            "10/10 [==============================] - 11s 1s/step - loss: 0.6576 - accuracy: 0.6771 - val_loss: 0.7810 - val_accuracy: 0.7083\n",
            "Epoch 24/50\n",
            "10/10 [==============================] - 11s 1s/step - loss: 0.6597 - accuracy: 0.7083 - val_loss: 0.7639 - val_accuracy: 0.7500\n",
            "Epoch 25/50\n",
            "10/10 [==============================] - 9s 914ms/step - loss: 0.6825 - accuracy: 0.6667 - val_loss: 0.6947 - val_accuracy: 0.7083\n",
            "Epoch 26/50\n",
            "10/10 [==============================] - 10s 907ms/step - loss: 0.9177 - accuracy: 0.5729 - val_loss: 1.2837 - val_accuracy: 0.5417\n",
            "Epoch 27/50\n",
            "10/10 [==============================] - 11s 1s/step - loss: 0.8336 - accuracy: 0.5938 - val_loss: 0.9710 - val_accuracy: 0.5417\n",
            "Epoch 28/50\n",
            "10/10 [==============================] - 11s 1s/step - loss: 0.7307 - accuracy: 0.7083 - val_loss: 0.8278 - val_accuracy: 0.6667\n",
            "Epoch 29/50\n",
            "10/10 [==============================] - 11s 1s/step - loss: 0.7424 - accuracy: 0.7083 - val_loss: 0.5651 - val_accuracy: 0.7500\n",
            "Epoch 30/50\n",
            "10/10 [==============================] - 9s 920ms/step - loss: 0.6515 - accuracy: 0.6875 - val_loss: 0.6290 - val_accuracy: 0.7500\n",
            "Epoch 31/50\n",
            "10/10 [==============================] - 10s 921ms/step - loss: 0.5134 - accuracy: 0.7812 - val_loss: 0.5772 - val_accuracy: 0.7083\n",
            "Epoch 32/50\n",
            "10/10 [==============================] - 11s 1s/step - loss: 0.7187 - accuracy: 0.6979 - val_loss: 0.7102 - val_accuracy: 0.6667\n",
            "Epoch 33/50\n",
            "10/10 [==============================] - 11s 1s/step - loss: 0.5879 - accuracy: 0.7812 - val_loss: 0.6052 - val_accuracy: 0.6667\n",
            "Epoch 34/50\n",
            "10/10 [==============================] - 11s 1s/step - loss: 0.5600 - accuracy: 0.8021 - val_loss: 0.6583 - val_accuracy: 0.7083\n",
            "Epoch 35/50\n",
            "10/10 [==============================] - 9s 902ms/step - loss: 0.4261 - accuracy: 0.8125 - val_loss: 0.6128 - val_accuracy: 0.7500\n",
            "Epoch 36/50\n",
            "10/10 [==============================] - 11s 1s/step - loss: 0.4052 - accuracy: 0.8125 - val_loss: 0.7070 - val_accuracy: 0.7500\n",
            "Epoch 37/50\n",
            "10/10 [==============================] - 11s 1s/step - loss: 0.6461 - accuracy: 0.7292 - val_loss: 0.9000 - val_accuracy: 0.6667\n",
            "Epoch 38/50\n",
            "10/10 [==============================] - 10s 920ms/step - loss: 0.4984 - accuracy: 0.8125 - val_loss: 0.9961 - val_accuracy: 0.6250\n",
            "Epoch 39/50\n",
            "10/10 [==============================] - 10s 999ms/step - loss: 0.6424 - accuracy: 0.7188 - val_loss: 1.3965 - val_accuracy: 0.5417\n",
            "Epoch 40/50\n",
            "10/10 [==============================] - 11s 1s/step - loss: 0.7390 - accuracy: 0.6771 - val_loss: 1.0878 - val_accuracy: 0.5000\n",
            "Epoch 41/50\n",
            "10/10 [==============================] - 10s 1s/step - loss: 0.7764 - accuracy: 0.6667 - val_loss: 0.7477 - val_accuracy: 0.7083\n",
            "Epoch 42/50\n",
            "10/10 [==============================] - 9s 920ms/step - loss: 0.5366 - accuracy: 0.7708 - val_loss: 0.5071 - val_accuracy: 0.7917\n",
            "Epoch 43/50\n",
            "10/10 [==============================] - 10s 952ms/step - loss: 0.4837 - accuracy: 0.8021 - val_loss: 0.4523 - val_accuracy: 0.7917\n",
            "Epoch 44/50\n",
            "10/10 [==============================] - 11s 1s/step - loss: 0.4695 - accuracy: 0.7812 - val_loss: 0.7743 - val_accuracy: 0.6667\n",
            "Epoch 45/50\n",
            "10/10 [==============================] - 10s 1s/step - loss: 0.6173 - accuracy: 0.7396 - val_loss: 0.6827 - val_accuracy: 0.7500\n",
            "Epoch 46/50\n",
            "10/10 [==============================] - 9s 882ms/step - loss: 0.5024 - accuracy: 0.8333 - val_loss: 0.8813 - val_accuracy: 0.7083\n",
            "Epoch 47/50\n",
            "10/10 [==============================] - 11s 1s/step - loss: 0.4773 - accuracy: 0.7812 - val_loss: 0.7491 - val_accuracy: 0.7917\n",
            "Epoch 48/50\n",
            "10/10 [==============================] - 11s 1s/step - loss: 0.4528 - accuracy: 0.8021 - val_loss: 0.6584 - val_accuracy: 0.7083\n",
            "Epoch 49/50\n",
            "10/10 [==============================] - 10s 972ms/step - loss: 0.4149 - accuracy: 0.8021 - val_loss: 0.7901 - val_accuracy: 0.7500\n",
            "Epoch 50/50\n",
            "10/10 [==============================] - 9s 882ms/step - loss: 0.3667 - accuracy: 0.8125 - val_loss: 0.8143 - val_accuracy: 0.8333\n"
          ]
        }
      ]
    },
    {
      "cell_type": "markdown",
      "source": [
        "# 5. Evaluate the result and save the model"
      ],
      "metadata": {
        "id": "Fjawq93oHfHY"
      }
    },
    {
      "cell_type": "code",
      "source": [
        "import matplotlib.pyplot as plt\n",
        "\n",
        "# Plot the results\n",
        "acc = history.history['accuracy']\n",
        "val_acc = history.history['val_accuracy']\n",
        "loss = history.history['loss']\n",
        "val_loss = history.history['val_loss']\n",
        "\n",
        "epochs = range(len(acc))\n",
        "\n",
        "plt.plot(epochs, acc, 'r', label='Training accuracy')\n",
        "plt.plot(epochs, val_acc, 'b', label='Validation accuracy')\n",
        "plt.title('Training and validation accuracy')\n",
        "plt.legend(loc=0)\n",
        "plt.figure()\n",
        "\n",
        "plt.show()"
      ],
      "metadata": {
        "colab": {
          "base_uri": "https://localhost:8080/",
          "height": 469
        },
        "id": "3gVWCsN4mJon",
        "outputId": "dca9c079-2caf-426f-f789-4f7045290a13"
      },
      "execution_count": null,
      "outputs": [
        {
          "output_type": "display_data",
          "data": {
            "text/plain": [
              "<Figure size 640x480 with 1 Axes>"
            ],
            "image/png": "[encoded data removed]"
          },
          "metadata": {}
        },
        {
          "output_type": "display_data",
          "data": {
            "text/plain": [
              "<Figure size 640x480 with 0 Axes>"
            ]
          },
          "metadata": {}
        }
      ]
    },
    {
      "cell_type": "code",
      "source": [
        "model.evaluate(train_generator)"
      ],
      "metadata": {
        "colab": {
          "base_uri": "https://localhost:8080/"
        },
        "id": "bRfpCxnTmL8R",
        "outputId": "64cc653f-ec96-457f-b93e-b3e87bcf09a6"
      },
      "execution_count": null,
      "outputs": [
        {
          "output_type": "stream",
          "name": "stdout",
          "text": [
            "10/10 [==============================] - 6s 564ms/step - loss: 0.3394 - accuracy: 0.8750\n"
          ]
        },
        {
          "output_type": "execute_result",
          "data": {
            "text/plain": [
              "[0.3394046127796173, 0.875]"
            ]
          },
          "metadata": {},
          "execution_count": 27
        }
      ]
    },
    {
      "cell_type": "code",
      "source": [
        "model.evaluate(validation_generator)"
      ],
      "metadata": {
        "colab": {
          "base_uri": "https://localhost:8080/"
        },
        "id": "td1keeXvmQHe",
        "outputId": "4942f932-6834-4649-9cc5-02190a1056bd"
      },
      "execution_count": null,
      "outputs": [
        {
          "output_type": "stream",
          "name": "stdout",
          "text": [
            "5/5 [==============================] - 1s 173ms/step - loss: 0.8143 - accuracy: 0.8333\n"
          ]
        },
        {
          "output_type": "execute_result",
          "data": {
            "text/plain": [
              "[0.8142626881599426, 0.8333333134651184]"
            ]
          },
          "metadata": {},
          "execution_count": 28
        }
      ]
    },
    {
      "cell_type": "code",
      "source": [
        "model.save('model.h5')"
      ],
      "metadata": {
        "id": "5mbRBnogmTQY"
      },
      "execution_count": null,
      "outputs": []
    },
    {
      "cell_type": "code",
      "source": [],
      "metadata": {
        "id": "ivpnmgR9O8D6"
      },
      "execution_count": null,
      "outputs": []
    }
  ]
}